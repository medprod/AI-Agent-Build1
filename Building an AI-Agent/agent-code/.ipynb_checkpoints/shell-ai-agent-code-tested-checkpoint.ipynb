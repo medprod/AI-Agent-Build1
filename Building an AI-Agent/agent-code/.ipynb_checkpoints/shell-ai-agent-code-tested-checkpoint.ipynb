{
 "cells": [
  {
   "cell_type": "markdown",
   "id": "55b01306-bb91-48d8-8d03-9ef223048e8b",
   "metadata": {},
   "source": [
    "#### Creating an LLM Agent\n",
    "\n",
    "Our LLM Agent will call 3 tools - execute_shell_comand, read_file, and file_write."
   ]
  },
  {
   "cell_type": "code",
   "execution_count": 131,
   "id": "e32d583d-fa69-4757-93b0-a826ef81bdba",
   "metadata": {},
   "outputs": [],
   "source": [
    "#!pip install --force-reinstall -v -q \"openai==1.55.3\""
   ]
  },
  {
   "cell_type": "code",
   "execution_count": 77,
   "id": "ff4c73f4-b3f3-42be-a21b-83c424561d7c",
   "metadata": {},
   "outputs": [
    {
     "name": "stdout",
     "output_type": "stream",
     "text": [
      "Requirement already satisfied: python-dotenv in /opt/anaconda3/lib/python3.12/site-packages (0.21.0)\n",
      "\n",
      "\u001b[1m[\u001b[0m\u001b[34;49mnotice\u001b[0m\u001b[1;39;49m]\u001b[0m\u001b[39;49m A new release of pip is available: \u001b[0m\u001b[31;49m25.0.1\u001b[0m\u001b[39;49m -> \u001b[0m\u001b[32;49m25.1.1\u001b[0m\n",
      "\u001b[1m[\u001b[0m\u001b[34;49mnotice\u001b[0m\u001b[1;39;49m]\u001b[0m\u001b[39;49m To update, run: \u001b[0m\u001b[32;49mpip install --upgrade pip\u001b[0m\n",
      "Note: you may need to restart the kernel to use updated packages.\n"
     ]
    }
   ],
   "source": [
    "pip install python-dotenv"
   ]
  },
  {
   "cell_type": "code",
   "execution_count": 78,
   "id": "fc3435c0-e6ec-47a1-8b04-ce59aff661af",
   "metadata": {},
   "outputs": [],
   "source": [
    "import os\n",
    "from openai import OpenAI\n",
    "from dotenv import load_dotenv\n",
    "\n",
    "# Specify your .env file name if it's not the default '.env'\n",
    "load_dotenv('key.env')\n",
    "\n",
    "# Now you can access the key as an environment variable\n",
    "api_key = os.getenv('OPENAI_API_KEY')\n",
    "\n",
    "# Use the key as needed, for example:\n",
    "client = OpenAI(api_key=api_key)"
   ]
  },
  {
   "cell_type": "code",
   "execution_count": 85,
   "id": "db031190-29ee-42e3-9972-96f843fa1e74",
   "metadata": {},
   "outputs": [],
   "source": [
    "import json\n",
    "import subprocess\n",
    "from typing import List, Dict, Any\n",
    "import shlex"
   ]
  },
  {
   "cell_type": "code",
   "execution_count": 87,
   "id": "bf82e8c5-830d-4d7c-b277-e8c0ee73e258",
   "metadata": {},
   "outputs": [],
   "source": [
    "class LLMAgent:\n",
    "    #initialize the assistance\n",
    "    def __init__(self, client, model):\n",
    "        self.model = model\n",
    "        self.client = client\n",
    "\n",
    "        #define the 3 tools\n",
    "        self.tools = [\n",
    "            {\n",
    "                \"type\": \"function\",\n",
    "                \"function\": {\n",
    "                    #shell_command tool\n",
    "                    \"name\": \"execute_shell_command\",\n",
    "                    \"description\": \"Execute a shell command and return its output\",\n",
    "                    \"parameters\": {\n",
    "                        \"type\": \"object\",\n",
    "                        \"properties\": {\n",
    "                            \"command\": {\n",
    "                                \"type\": \"string\",\n",
    "                                \"description\": \"The shell command to execute\"\n",
    "                            }\n",
    "                        },\n",
    "                        \"required\": [\"command\"]\n",
    "                    }\n",
    "                }\n",
    "            },\n",
    "            {\n",
    "                \"type\": \"function\",\n",
    "                \"function\": {\n",
    "                    #read_file tool\n",
    "                    \"name\": \"read_file\",\n",
    "                    \"description\": \"Read contents of a file\",\n",
    "                    \"parameters\": {\n",
    "                        \"type\": \"object\",\n",
    "                        \"properties\": {\n",
    "                            \"file_path\": {\n",
    "                                \"type\": \"string\",\n",
    "                                \"description\": \"Path to the file to read\"\n",
    "                            }\n",
    "                        },\n",
    "                        \"required\": [\"file_path\"]\n",
    "                    }\n",
    "                }\n",
    "            },\n",
    "            {\n",
    "                \"type\": \"function\",\n",
    "                \"function\": {\n",
    "                    #file_write tool\n",
    "                    \"name\": \"write_file\",\n",
    "                    \"description\": \"Write content to a file\",\n",
    "                    \"parameters\": {\n",
    "                        \"type\": \"object\",\n",
    "                        \"properties\": {\n",
    "                            \"file_path\": {\n",
    "                                \"type\": \"string\",\n",
    "                                \"description\": \"Path to the file to write\"\n",
    "                            },\n",
    "                            \"content\": {\n",
    "                                \"type\": \"string\",\n",
    "                                \"description\": \"Content to write to file\"\n",
    "                            },\n",
    "                            \"mode\": {\n",
    "                                \"type\": \"string\",\n",
    "                                \"description\": \"Write mode: 'w' for overwrite, 'a' for append\",\n",
    "                                \"enum\": [\"w\", \"a\"],\n",
    "                                \"default\": \"w\"\n",
    "                            },\n",
    "                        },\n",
    "                        \"required\": [\"file_path\", \"content\"]\n",
    "                    }\n",
    "                }\n",
    "            }\n",
    "        ]\n",
    "\n",
    "    #write_file function\n",
    "    def write_file(self, file_path: str, content: str, mode: str = 'w'):\n",
    "        \"\"\"Write content to a file.\"\"\"\n",
    "        #write content to file\n",
    "        try:\n",
    "            #w=overwrite and a=append\n",
    "            if mode not in ['w', 'a']:\n",
    "                raise ValueError(\"The mode must be w or a.\")\n",
    "\n",
    "            abs_path = os.path.abspath(file_path)\n",
    "\n",
    "            with open(abs_path, mode) as f:\n",
    "                f.write(content)\n",
    "\n",
    "            return {\n",
    "                \"success\": True,\n",
    "                \"message\": f\"Successfully wrote to {file_path}\",\n",
    "                \"bytes_written\": len(content)\n",
    "            }\n",
    "        except Exception as e:\n",
    "            return {\n",
    "                \"success\": False,\n",
    "                \"error\": str(e)\n",
    "            }\n",
    "\n",
    "\n",
    "    #execute_shell_command function\n",
    "    def execute_shell_command(self, command:str) -> Dict[str, Any]:\n",
    "        \"\"\"Execute a shell command and return its output.\"\"\"\n",
    "        try:\n",
    "            #shlex parses the command\n",
    "            args = shlex.split(command)\n",
    "\n",
    "            #execute command and get output\n",
    "            result = subprocess.run(\n",
    "                args,\n",
    "                capture_output = True,\n",
    "                text=True,\n",
    "                shell=False\n",
    "            )\n",
    "            return {\n",
    "                \"success\": True,\n",
    "                \"stdout\": result.stdout,\n",
    "                \"stderr\": result.stderr,\n",
    "                \"return_code\": result.returncode\n",
    "            }\n",
    "        except Exception as e:\n",
    "            return {\n",
    "                \"success\": False,\n",
    "                \"error\": str(e)\n",
    "            }\n",
    "\n",
    "    #read_file function\n",
    "    def read_file(self, file_path: str) -> Dict[str, Any]:\n",
    "        \"\"\"Read a file and return its contents.\"\"\"\n",
    "        try:\n",
    "            with open(file_path, 'r') as f:\n",
    "                content = f.read()\n",
    "            return{\n",
    "                \"success\": True,\n",
    "                \"content\": content\n",
    "            }\n",
    "        except Exception as e:\n",
    "            return {\n",
    "                \"success\": False,\n",
    "                \"error\": str(e)\n",
    "            }\n",
    "\n",
    "    #call tools\n",
    "    def process_tool_call(self, tool_call:Dict) -> Dict[str, Any]:\n",
    "        \"\"\"Process a tool call from the API response.\"\"\"\n",
    "        function_name = tool_call.function.name\n",
    "        function_args = json.loads(tool_call.function.arguments)\n",
    "\n",
    "        if function_name == \"execute_shell_command\":\n",
    "            return self.execute_shell_command(function_args[\"command\"])\n",
    "        elif function_name == \"read_file\":\n",
    "            return self.read_file(function_args[\"file_path\"])\n",
    "        elif function_name == \"write_file\":\n",
    "            mode = function_args.get(\"mode\", \"w\")\n",
    "            return self.write_file(\n",
    "                function_args[\"file_path\"],\n",
    "                function_args[\"content\"],\n",
    "                mode\n",
    "            )\n",
    "        else:\n",
    "            return {\"success\": False, \"error\": f\"Unknown function: {function_name}\"}\n",
    "\n",
    "    def chat(self, user_message: str, verbose=False) -> str:\n",
    "        \"\"\"Main chat function that processes user input and returns assistant response.\"\"\"\n",
    "        completions = []\n",
    "        messages = [{\"role\": \"user\", \"content\": user_message}]\n",
    "\n",
    "        try:\n",
    "            # Get initial response from OpenAI\n",
    "            completion = self.client.chat.completions.create(\n",
    "                model=self.model,\n",
    "                messages=messages,\n",
    "                tools=self.tools,\n",
    "                tool_choice=\"auto\"\n",
    "            )\n",
    "\n",
    "            # completions.append(completion)\n",
    "            message = completion.choices[0].message\n",
    "\n",
    "            # Process tool calls if any\n",
    "            while message.tool_calls:\n",
    "                messages.append(message)\n",
    "\n",
    "                # Process each tool call\n",
    "                for tool_call in message.tool_calls:\n",
    "                    result = self.process_tool_call(tool_call)\n",
    "\n",
    "                    # Add tool result to messages\n",
    "                    messages.append({\n",
    "                        \"role\": \"tool\",\n",
    "                        \"tool_call_id\": tool_call.id,\n",
    "                        \"content\": json.dumps(result)\n",
    "                    })\n",
    "\n",
    "                # Get next response from OpenAI\n",
    "                completion = self.client.chat.completions.create(\n",
    "                    model=self.model,\n",
    "                    messages=messages,\n",
    "                    tools=self.tools,\n",
    "                    tool_choice=\"auto\"\n",
    "                )\n",
    "                # completions.append(completion)\n",
    "                message = completion.choices[0].message\n",
    "\n",
    "            if verbose:\n",
    "                return message.content, messages#, completions\n",
    "            else:\n",
    "                return message.content\n",
    "\n",
    "        except Exception as e:\n",
    "            return f\"Error: {str(e)}\""
   ]
  },
  {
   "cell_type": "markdown",
   "id": "bf3344fa-a414-4304-8b12-564e5d40661e",
   "metadata": {},
   "source": [
    "#### Now, lets create the agent"
   ]
  },
  {
   "cell_type": "code",
   "execution_count": 94,
   "id": "049969e5-2c7a-400f-ad43-458447115f84",
   "metadata": {},
   "outputs": [
    {
     "name": "stdout",
     "output_type": "stream",
     "text": [
      "('The files in the current directory are:\\n\\n- `agent-code`\\n- `key.env`\\n- `shell-ai-agent-code.ipynb`', [{'role': 'user', 'content': 'Get the names of the files in the current directory'}, ChatCompletionMessage(content=None, refusal=None, role='assistant', audio=None, function_call=None, tool_calls=[ChatCompletionMessageToolCall(id='call_sZxr1WMamXeZA3nivEQKWl5m', function=Function(arguments='{\"command\":\"ls\"}', name='execute_shell_command'), type='function')], annotations=[]), {'role': 'tool', 'tool_call_id': 'call_sZxr1WMamXeZA3nivEQKWl5m', 'content': '{\"success\": true, \"stdout\": \"\\\\u001b[34magent-code\\\\u001b[m\\\\u001b[m\\\\nkey.env\\\\nshell-ai-agent-code.ipynb\\\\n\", \"stderr\": \"\", \"return_code\": 0}'}])\n"
     ]
    }
   ],
   "source": [
    "from openai import OpenAI \n",
    "\n",
    "#our agent is instantiated as \"assistant\" here\n",
    "assistant = LLMAgent(\n",
    "    client=client,\n",
    "    model=\"gpt-4o-mini\"\n",
    ")\n",
    "\n",
    "user_message = \"Get the names of the files in the current directory\"\n",
    "result = assistant.chat(user_message, verbose=True)\n",
    "print(result)   "
   ]
  },
  {
   "cell_type": "markdown",
   "id": "05ee0596-ea73-4c0f-914e-1ceee8ee4064",
   "metadata": {},
   "source": [
    "#### Testing the Agent on the Backend\n",
    "Simply testing if all functions we wrote earlier are working on the backend."
   ]
  },
  {
   "cell_type": "code",
   "execution_count": 108,
   "id": "acf425ee-5f02-4a3f-9327-f50f0ed0a532",
   "metadata": {},
   "outputs": [
    {
     "name": "stdout",
     "output_type": "stream",
     "text": [
      "{'success': True, 'message': 'Successfully wrote to test.txt', 'bytes_written': 20}\n"
     ]
    }
   ],
   "source": [
    "#test write_file\n",
    "result = assistant.write_file('test.txt', 'My Agent is working!', mode='w')\n",
    "print(result)"
   ]
  },
  {
   "cell_type": "code",
   "execution_count": 111,
   "id": "ea45850e-96d7-4e87-84cd-ecc2597121c6",
   "metadata": {},
   "outputs": [
    {
     "name": "stdout",
     "output_type": "stream",
     "text": [
      "{'success': True, 'content': 'My Agent is working!'}\n"
     ]
    }
   ],
   "source": [
    "#test read_file\n",
    "result = assistant.read_file('test.txt')\n",
    "print(result)"
   ]
  },
  {
   "cell_type": "code",
   "execution_count": 113,
   "id": "92fe0c8b-3eb3-4304-9121-3c519103941c",
   "metadata": {},
   "outputs": [
    {
     "name": "stdout",
     "output_type": "stream",
     "text": [
      "{'success': True, 'stdout': '\\x1b[34magent-code\\x1b[m\\x1b[m\\nkey.env\\nshell-ai-agent-code.ipynb\\ntest.txt\\n', 'stderr': '', 'return_code': 0}\n"
     ]
    }
   ],
   "source": [
    "#test shell_command\n",
    "result = assistant.execute_shell_command('ls')\n",
    "print(result)"
   ]
  },
  {
   "cell_type": "markdown",
   "id": "fec5821f-5ab4-433e-9b21-40b226b4b8ff",
   "metadata": {},
   "source": [
    "#### Testing the Agent on the User Side\n",
    "We use chat here to do so."
   ]
  },
  {
   "cell_type": "code",
   "execution_count": 121,
   "id": "ce9ff11a-fa06-49a2-a5a9-298dd9921205",
   "metadata": {},
   "outputs": [
    {
     "name": "stdout",
     "output_type": "stream",
     "text": [
      "('The files in the current directory are:\\n\\n- `.`\\n- `..`\\n- `.DS_Store`\\n- `.ipynb_checkpoints`\\n- `agent-code`\\n- `key.env`\\n- `shell-ai-agent-code.ipynb`\\n- `test.txt`', [{'role': 'user', 'content': 'List all files in the current directory.'}, ChatCompletionMessage(content=None, refusal=None, role='assistant', audio=None, function_call=None, tool_calls=[ChatCompletionMessageToolCall(id='call_5GDc9rBCIkz2TBirk1ETNXoh', function=Function(arguments='{\"command\":\"ls -a\"}', name='execute_shell_command'), type='function')], annotations=[]), {'role': 'tool', 'tool_call_id': 'call_5GDc9rBCIkz2TBirk1ETNXoh', 'content': '{\"success\": true, \"stdout\": \"\\\\u001b[34m.\\\\u001b[m\\\\u001b[m\\\\n\\\\u001b[34m..\\\\u001b[m\\\\u001b[m\\\\n.DS_Store\\\\n\\\\u001b[34m.ipynb_checkpoints\\\\u001b[m\\\\u001b[m\\\\n\\\\u001b[34magent-code\\\\u001b[m\\\\u001b[m\\\\nkey.env\\\\nshell-ai-agent-code.ipynb\\\\ntest.txt\\\\n\", \"stderr\": \"\", \"return_code\": 0}'}])\n"
     ]
    }
   ],
   "source": [
    "response = assistant.chat(\"List all files in the current directory.\", verbose=True)\n",
    "print(response)"
   ]
  },
  {
   "cell_type": "code",
   "execution_count": 123,
   "id": "e27c65b3-2466-4a09-b0df-5bcc82b2a892",
   "metadata": {},
   "outputs": [
    {
     "name": "stdout",
     "output_type": "stream",
     "text": [
      "(\"The file named `output.txt` has been successfully created with the text 'Hi, I am the user!'.\", [{'role': 'user', 'content': \"Create a file named output.txt with the text 'Hi, I am the user!'\"}, ChatCompletionMessage(content=None, refusal=None, role='assistant', audio=None, function_call=None, tool_calls=[ChatCompletionMessageToolCall(id='call_Np72N7TYpZ5sPAyE4YzF9UfE', function=Function(arguments='{\"file_path\":\"output.txt\",\"content\":\"Hi, I am the user!\",\"mode\":\"w\"}', name='write_file'), type='function')], annotations=[]), {'role': 'tool', 'tool_call_id': 'call_Np72N7TYpZ5sPAyE4YzF9UfE', 'content': '{\"success\": true, \"message\": \"Successfully wrote to output.txt\", \"bytes_written\": 18}'}])\n"
     ]
    }
   ],
   "source": [
    "response = assistant.chat(\"Create a file named output.txt with the text 'Hi, I am the user!'\", verbose=True)\n",
    "print(response)"
   ]
  },
  {
   "cell_type": "code",
   "execution_count": 125,
   "id": "8e22a883-a526-4461-a251-e06bb9cc3ce5",
   "metadata": {},
   "outputs": [
    {
     "name": "stdout",
     "output_type": "stream",
     "text": [
      "('The text \"I just generated the output.txt file!\" has been successfully appended to `output.txt`.', [{'role': 'user', 'content': \"Now add to output.txt with the text 'I just generated the output.txt file!'\"}, ChatCompletionMessage(content=None, refusal=None, role='assistant', audio=None, function_call=None, tool_calls=[ChatCompletionMessageToolCall(id='call_BJE3nQM8971F4qYwB8TBErBF', function=Function(arguments='{\"file_path\":\"output.txt\",\"content\":\"I just generated the output.txt file!\",\"mode\":\"a\"}', name='write_file'), type='function')], annotations=[]), {'role': 'tool', 'tool_call_id': 'call_BJE3nQM8971F4qYwB8TBErBF', 'content': '{\"success\": true, \"message\": \"Successfully wrote to output.txt\", \"bytes_written\": 37}'}])\n"
     ]
    }
   ],
   "source": [
    "response = assistant.chat(\"Now add to output.txt with the text 'I just generated the output.txt file!'\", verbose=True)\n",
    "print(response)"
   ]
  },
  {
   "cell_type": "code",
   "execution_count": 127,
   "id": "3e12d23e-8f95-4158-97f4-27997039095e",
   "metadata": {},
   "outputs": [
    {
     "name": "stdout",
     "output_type": "stream",
     "text": [
      "('The contents of the `output.txt` file are: \\n\\n\"Hi, I am the user! I just generated the output.txt file!\"', [{'role': 'user', 'content': 'Read the contents of the output.txt file'}, ChatCompletionMessage(content=None, refusal=None, role='assistant', audio=None, function_call=None, tool_calls=[ChatCompletionMessageToolCall(id='call_MGHdN91ON4UsFp3JX5yuy62E', function=Function(arguments='{\"file_path\":\"output.txt\"}', name='read_file'), type='function')], annotations=[]), {'role': 'tool', 'tool_call_id': 'call_MGHdN91ON4UsFp3JX5yuy62E', 'content': '{\"success\": true, \"content\": \"Hi, I am the user!I just generated the output.txt file!\"}'}])\n"
     ]
    }
   ],
   "source": [
    "response = assistant.chat(\"Read the contents of the output.txt file\", verbose=True)\n",
    "print(response)"
   ]
  }
 ],
 "metadata": {
  "kernelspec": {
   "display_name": "Python [conda env:base] *",
   "language": "python",
   "name": "conda-base-py"
  },
  "language_info": {
   "codemirror_mode": {
    "name": "ipython",
    "version": 3
   },
   "file_extension": ".py",
   "mimetype": "text/x-python",
   "name": "python",
   "nbconvert_exporter": "python",
   "pygments_lexer": "ipython3",
   "version": "3.12.7"
  }
 },
 "nbformat": 4,
 "nbformat_minor": 5
}
